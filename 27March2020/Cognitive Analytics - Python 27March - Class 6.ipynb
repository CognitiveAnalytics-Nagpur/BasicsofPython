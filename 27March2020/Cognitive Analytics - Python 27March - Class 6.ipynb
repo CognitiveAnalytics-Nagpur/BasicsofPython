{
 "cells": [
  {
   "cell_type": "code",
   "execution_count": 1,
   "metadata": {},
   "outputs": [],
   "source": [
    "import os"
   ]
  },
  {
   "cell_type": "code",
   "execution_count": 5,
   "metadata": {},
   "outputs": [
    {
     "data": {
      "text/plain": [
       "'C:\\\\Users\\\\Admin\\\\Desktop\\\\CA'"
      ]
     },
     "execution_count": 5,
     "metadata": {},
     "output_type": "execute_result"
    }
   ],
   "source": [
    "os.getcwd()"
   ]
  },
  {
   "cell_type": "code",
   "execution_count": 4,
   "metadata": {},
   "outputs": [],
   "source": [
    "os.chdir(r'C:\\Users\\Admin\\Desktop\\CA')"
   ]
  },
  {
   "cell_type": "code",
   "execution_count": 6,
   "metadata": {},
   "outputs": [
    {
     "name": "stdout",
     "output_type": "stream",
     "text": [
      "Data written successfully\n"
     ]
    }
   ],
   "source": [
    "file = open('CA_Python_0104.txt', 'w')\n",
    "file.write('CA, we help students to learn new technologies')\n",
    "file.write('\\nWe are working with NMC and helping them to create some AI driven projects')\n",
    "file.write('\\nWe are associated with various IT companies across Nagpur and helping them on BI, DS, AI solutions')\n",
    "file.write('\\nOur headquarters is in Nagpur, Mah')\n",
    "print('Data written successfully')\n",
    "file.close()"
   ]
  },
  {
   "cell_type": "code",
   "execution_count": 7,
   "metadata": {},
   "outputs": [
    {
     "name": "stdout",
     "output_type": "stream",
     "text": [
      "Data written successfully\n"
     ]
    }
   ],
   "source": [
    "file = open('CA_Python_0104.txt','a')\n",
    "file.write('\\nWe are currently working on Facial Attendance based system')\n",
    "print('Data written successfully')\n",
    "file.close()"
   ]
  },
  {
   "cell_type": "code",
   "execution_count": 8,
   "metadata": {},
   "outputs": [],
   "source": [
    "file = open('CA_Python_0104.txt','w')\n",
    "file.write('Hello')\n",
    "file.close()"
   ]
  },
  {
   "cell_type": "code",
   "execution_count": 9,
   "metadata": {},
   "outputs": [],
   "source": [
    "list = ['My name is Rahul Tiwari', '\\n I am helping students to learn new technologies']\n",
    "file = open('CA_Python_0104.txt','w')\n",
    "file.writelines(list)\n",
    "file.close()"
   ]
  },
  {
   "cell_type": "code",
   "execution_count": 17,
   "metadata": {},
   "outputs": [
    {
     "name": "stdout",
     "output_type": "stream",
     "text": [
      "My name is Rahul\n"
     ]
    }
   ],
   "source": [
    "file = open('CA_Python_0104.txt', 'r')\n",
    "call = file.read(16)\n",
    "print(call)\n",
    "file.close()"
   ]
  },
  {
   "cell_type": "code",
   "execution_count": 18,
   "metadata": {},
   "outputs": [
    {
     "ename": "PermissionError",
     "evalue": "[WinError 32] The process cannot access the file because it is being used by another process: 'CA_Python_0104.txt' -> 'CA_Python_001.txt'",
     "output_type": "error",
     "traceback": [
      "\u001b[1;31m---------------------------------------------------------------------------\u001b[0m",
      "\u001b[1;31mPermissionError\u001b[0m                           Traceback (most recent call last)",
      "\u001b[1;32m<ipython-input-18-722168d14bbb>\u001b[0m in \u001b[0;36m<module>\u001b[1;34m\u001b[0m\n\u001b[1;32m----> 1\u001b[1;33m \u001b[0mos\u001b[0m\u001b[1;33m.\u001b[0m\u001b[0mrename\u001b[0m\u001b[1;33m(\u001b[0m\u001b[1;34m'CA_Python_0104.txt'\u001b[0m\u001b[1;33m,\u001b[0m \u001b[1;34m'CA_Python_001.txt'\u001b[0m\u001b[1;33m)\u001b[0m\u001b[1;33m\u001b[0m\u001b[1;33m\u001b[0m\u001b[0m\n\u001b[0m",
      "\u001b[1;31mPermissionError\u001b[0m: [WinError 32] The process cannot access the file because it is being used by another process: 'CA_Python_0104.txt' -> 'CA_Python_001.txt'"
     ]
    }
   ],
   "source": [
    "os.rename('CA_Python_0104.txt', 'CA_Python_001.txt')"
   ]
  },
  {
   "cell_type": "code",
   "execution_count": 15,
   "metadata": {},
   "outputs": [],
   "source": [
    "file = open('CAPython0104.txt','w')\n",
    "file.write('Hello')\n",
    "file.close()"
   ]
  },
  {
   "cell_type": "code",
   "execution_count": 19,
   "metadata": {},
   "outputs": [],
   "source": [
    "os.rename('CA_Python_001.txt', 'CA_Python_002.txt')"
   ]
  },
  {
   "cell_type": "code",
   "execution_count": 20,
   "metadata": {},
   "outputs": [],
   "source": [
    "os.chdir(r'C:\\Users\\Admin\\Desktop\\CA\\Logs')"
   ]
  },
  {
   "cell_type": "code",
   "execution_count": 39,
   "metadata": {},
   "outputs": [],
   "source": [
    "file = open('CA_Python.txt', 'w')\n",
    "file.write('Hello')\n",
    "file.close()"
   ]
  },
  {
   "cell_type": "code",
   "execution_count": 22,
   "metadata": {},
   "outputs": [],
   "source": [
    "import datetime"
   ]
  },
  {
   "cell_type": "code",
   "execution_count": 31,
   "metadata": {},
   "outputs": [
    {
     "ename": "OSError",
     "evalue": "[WinError 87] The parameter is incorrect: 'CA_Python_01-04-2020.txt' -> 'CA_Python_01/04/2020, 10:34:37.txt'",
     "output_type": "error",
     "traceback": [
      "\u001b[1;31m---------------------------------------------------------------------------\u001b[0m",
      "\u001b[1;31mOSError\u001b[0m                                   Traceback (most recent call last)",
      "\u001b[1;32m<ipython-input-31-52e7020a34c4>\u001b[0m in \u001b[0;36m<module>\u001b[1;34m\u001b[0m\n\u001b[0;32m      1\u001b[0m \u001b[0mcurrent_date\u001b[0m \u001b[1;33m=\u001b[0m \u001b[0mdatetime\u001b[0m\u001b[1;33m.\u001b[0m\u001b[0mdatetime\u001b[0m\u001b[1;33m.\u001b[0m\u001b[0mtoday\u001b[0m\u001b[1;33m(\u001b[0m\u001b[1;33m)\u001b[0m\u001b[1;33m.\u001b[0m\u001b[0mstrftime\u001b[0m\u001b[1;33m(\u001b[0m\u001b[1;34m'%d/%m/%Y, %H:%M:%S'\u001b[0m\u001b[1;33m)\u001b[0m\u001b[1;33m\u001b[0m\u001b[1;33m\u001b[0m\u001b[0m\n\u001b[1;32m----> 2\u001b[1;33m \u001b[0mos\u001b[0m\u001b[1;33m.\u001b[0m\u001b[0mrename\u001b[0m\u001b[1;33m(\u001b[0m\u001b[1;34m'CA_Python_01-04-2020.txt'\u001b[0m\u001b[1;33m,\u001b[0m \u001b[1;34m'CA_Python_'\u001b[0m\u001b[1;33m+\u001b[0m\u001b[0mstr\u001b[0m\u001b[1;33m(\u001b[0m\u001b[0mcurrent_date\u001b[0m\u001b[1;33m)\u001b[0m\u001b[1;33m+\u001b[0m\u001b[1;34m'.txt'\u001b[0m\u001b[1;33m)\u001b[0m\u001b[1;33m\u001b[0m\u001b[1;33m\u001b[0m\u001b[0m\n\u001b[0m",
      "\u001b[1;31mOSError\u001b[0m: [WinError 87] The parameter is incorrect: 'CA_Python_01-04-2020.txt' -> 'CA_Python_01/04/2020, 10:34:37.txt'"
     ]
    }
   ],
   "source": [
    "current_date = datetime.datetime.today().strftime('%d/%m/%Y, %H:%M:%S')\n",
    "os.rename('CA_Python_01-04-2020.txt', 'CA_Python_'+str(current_date)+'.txt')"
   ]
  },
  {
   "cell_type": "code",
   "execution_count": 32,
   "metadata": {},
   "outputs": [],
   "source": [
    "current_date = datetime.datetime.today().strftime('%d/%m/%Y, %H:%M:%S')"
   ]
  },
  {
   "cell_type": "code",
   "execution_count": 33,
   "metadata": {},
   "outputs": [
    {
     "data": {
      "text/plain": [
       "'01/04/2020, 10:35:19'"
      ]
     },
     "execution_count": 33,
     "metadata": {},
     "output_type": "execute_result"
    }
   ],
   "source": [
    "current_date"
   ]
  },
  {
   "cell_type": "code",
   "execution_count": 37,
   "metadata": {},
   "outputs": [
    {
     "ename": "OSError",
     "evalue": "[WinError 87] The parameter is incorrect: 'CA.txt' -> 'CA_01/04/2020, 10:35:19.txt'",
     "output_type": "error",
     "traceback": [
      "\u001b[1;31m---------------------------------------------------------------------------\u001b[0m",
      "\u001b[1;31mOSError\u001b[0m                                   Traceback (most recent call last)",
      "\u001b[1;32m<ipython-input-37-8c033a4c50f8>\u001b[0m in \u001b[0;36m<module>\u001b[1;34m\u001b[0m\n\u001b[1;32m----> 1\u001b[1;33m \u001b[0mos\u001b[0m\u001b[1;33m.\u001b[0m\u001b[0mrename\u001b[0m\u001b[1;33m(\u001b[0m\u001b[1;34m'CA.txt'\u001b[0m\u001b[1;33m,\u001b[0m\u001b[1;34m'CA_'\u001b[0m\u001b[1;33m+\u001b[0m\u001b[0mstr\u001b[0m\u001b[1;33m(\u001b[0m\u001b[0mcurrent_date\u001b[0m\u001b[1;33m)\u001b[0m\u001b[1;33m+\u001b[0m\u001b[1;34m'.txt'\u001b[0m\u001b[1;33m)\u001b[0m\u001b[1;33m\u001b[0m\u001b[1;33m\u001b[0m\u001b[0m\n\u001b[0m",
      "\u001b[1;31mOSError\u001b[0m: [WinError 87] The parameter is incorrect: 'CA.txt' -> 'CA_01/04/2020, 10:35:19.txt'"
     ]
    }
   ],
   "source": [
    "os.rename('CA.txt','CA_'+str(current_date)+'.txt')"
   ]
  },
  {
   "cell_type": "code",
   "execution_count": 38,
   "metadata": {},
   "outputs": [],
   "source": [
    "os.remove('CA.txt')"
   ]
  },
  {
   "cell_type": "code",
   "execution_count": 41,
   "metadata": {},
   "outputs": [
    {
     "name": "stdout",
     "output_type": "stream",
     "text": [
      "The file does not exists\n"
     ]
    }
   ],
   "source": [
    "if os.path.exists('CA_Python.txt'):\n",
    "    os.remove('CA_Python.txt')\n",
    "    print('File deleted successfully')\n",
    "else:\n",
    "    print('The file does not exists')"
   ]
  },
  {
   "cell_type": "code",
   "execution_count": 42,
   "metadata": {},
   "outputs": [
    {
     "name": "stdout",
     "output_type": "stream",
     "text": [
      "Enter your name:Rahul\n",
      "Enter your age:34\n",
      "Enter your marks:35\n",
      "Data written successfully\n"
     ]
    }
   ],
   "source": [
    "file = open('CA_Python.txt', 'w')\n",
    "file.write(input('Enter your name:'))\n",
    "file.write(',')\n",
    "file.write(input('Enter your age:'))\n",
    "file.write(',')\n",
    "file.write(input('Enter your marks:'))\n",
    "print('Data written successfully')\n",
    "file.close()"
   ]
  },
  {
   "cell_type": "code",
   "execution_count": 47,
   "metadata": {},
   "outputs": [
    {
     "name": "stdout",
     "output_type": "stream",
     "text": [
      "Enter first number: 10\n",
      "Enter second number: a\n"
     ]
    },
    {
     "ename": "ValueError",
     "evalue": "invalid literal for int() with base 10: 'a'",
     "output_type": "error",
     "traceback": [
      "\u001b[1;31m---------------------------------------------------------------------------\u001b[0m",
      "\u001b[1;31mValueError\u001b[0m                                Traceback (most recent call last)",
      "\u001b[1;32m<ipython-input-47-a2ee9d98b9f6>\u001b[0m in \u001b[0;36m<module>\u001b[1;34m\u001b[0m\n\u001b[0;32m      1\u001b[0m \u001b[0mresult\u001b[0m \u001b[1;33m=\u001b[0m \u001b[1;32mNone\u001b[0m\u001b[1;33m\u001b[0m\u001b[1;33m\u001b[0m\u001b[0m\n\u001b[0;32m      2\u001b[0m \u001b[0mx\u001b[0m \u001b[1;33m=\u001b[0m \u001b[0mint\u001b[0m\u001b[1;33m(\u001b[0m\u001b[0minput\u001b[0m\u001b[1;33m(\u001b[0m\u001b[1;34m'Enter first number: '\u001b[0m\u001b[1;33m)\u001b[0m\u001b[1;33m)\u001b[0m\u001b[1;33m\u001b[0m\u001b[1;33m\u001b[0m\u001b[0m\n\u001b[1;32m----> 3\u001b[1;33m \u001b[0my\u001b[0m \u001b[1;33m=\u001b[0m \u001b[0mint\u001b[0m\u001b[1;33m(\u001b[0m\u001b[0minput\u001b[0m\u001b[1;33m(\u001b[0m\u001b[1;34m'Enter second number: '\u001b[0m\u001b[1;33m)\u001b[0m\u001b[1;33m)\u001b[0m\u001b[1;33m\u001b[0m\u001b[1;33m\u001b[0m\u001b[0m\n\u001b[0m\u001b[0;32m      4\u001b[0m \u001b[0mprint\u001b[0m\u001b[1;33m(\u001b[0m\u001b[0mresult\u001b[0m\u001b[1;33m)\u001b[0m\u001b[1;33m\u001b[0m\u001b[1;33m\u001b[0m\u001b[0m\n\u001b[0;32m      5\u001b[0m \u001b[0mresult\u001b[0m \u001b[1;33m=\u001b[0m \u001b[0mx\u001b[0m\u001b[1;33m/\u001b[0m\u001b[0my\u001b[0m\u001b[1;33m\u001b[0m\u001b[1;33m\u001b[0m\u001b[0m\n",
      "\u001b[1;31mValueError\u001b[0m: invalid literal for int() with base 10: 'a'"
     ]
    }
   ],
   "source": [
    "result = None\n",
    "x = int(input('Enter first number: '))\n",
    "y = int(input('Enter second number: '))\n",
    "print(result)\n",
    "result = x/y\n",
    "print(result)"
   ]
  },
  {
   "cell_type": "code",
   "execution_count": 44,
   "metadata": {},
   "outputs": [
    {
     "data": {
      "text/plain": [
       "NoneType"
      ]
     },
     "execution_count": 44,
     "metadata": {},
     "output_type": "execute_result"
    }
   ],
   "source": [
    "type(result)"
   ]
  },
  {
   "cell_type": "code",
   "execution_count": 49,
   "metadata": {},
   "outputs": [
    {
     "name": "stdout",
     "output_type": "stream",
     "text": [
      "Enter number 1:10\n",
      "Enter number 2:5\n",
      "None\n",
      "2.0\n"
     ]
    }
   ],
   "source": [
    "try:\n",
    "    result = None\n",
    "    x = int(input('Enter number 1:'))\n",
    "    y = int(input('Enter number 2:'))\n",
    "    print(result)\n",
    "    result = x/y\n",
    "except:\n",
    "    print('Error in the code')\n",
    "print(result)"
   ]
  },
  {
   "cell_type": "code",
   "execution_count": 52,
   "metadata": {},
   "outputs": [
    {
     "name": "stdout",
     "output_type": "stream",
     "text": [
      "Enter number 1:10\n",
      "Enter number 2:a\n",
      "<class 'ValueError'>\n",
      "None\n"
     ]
    }
   ],
   "source": [
    "try:\n",
    "    result = None\n",
    "    x = int(input('Enter number 1:'))\n",
    "    y = int(input('Enter number 2:'))\n",
    "    print(result)\n",
    "    result = x/y\n",
    "except Exception as e:\n",
    "    print(type(e))\n",
    "print(result)"
   ]
  },
  {
   "cell_type": "code",
   "execution_count": 53,
   "metadata": {},
   "outputs": [
    {
     "name": "stdout",
     "output_type": "stream",
     "text": [
      "Enter number 1:10\n",
      "Enter number 2:0\n",
      "None\n",
      "division by zero\n",
      "None\n"
     ]
    }
   ],
   "source": [
    "try:\n",
    "    result = None\n",
    "    x = int(input('Enter number 1:'))\n",
    "    y = int(input('Enter number 2:'))\n",
    "    print(result)\n",
    "    result = x/y\n",
    "except Exception as e:\n",
    "    print(e)\n",
    "print(result)"
   ]
  },
  {
   "cell_type": "code",
   "execution_count": 56,
   "metadata": {},
   "outputs": [
    {
     "name": "stdout",
     "output_type": "stream",
     "text": [
      "Enter number 1:10\n",
      "Enter number 2:0\n",
      "None\n",
      "division by zero\n",
      "Shoot an email\n",
      "None\n"
     ]
    }
   ],
   "source": [
    "try:\n",
    "    result = None\n",
    "    x = int(input('Enter number 1:'))\n",
    "    y = int(input('Enter number 2:'))\n",
    "    print(result)\n",
    "    result = x/y\n",
    "except Exception as e:\n",
    "    print(e)\n",
    "else:\n",
    "    print('There is no error')\n",
    "finally:\n",
    "    print('Shoot an email')\n",
    "print(result)"
   ]
  },
  {
   "cell_type": "code",
   "execution_count": 58,
   "metadata": {},
   "outputs": [],
   "source": [
    "os.chdir(r'C:\\Users\\Admin\\Desktop\\CA')"
   ]
  },
  {
   "cell_type": "code",
   "execution_count": 59,
   "metadata": {},
   "outputs": [
    {
     "data": {
      "text/plain": [
       "['Bain Invoice.xlsx',\n",
       " 'Batch 1 - 16th March.xlsx',\n",
       " 'CA - Programs.xlsx',\n",
       " 'CA_Python_002.txt',\n",
       " 'CA_Python_0104.txt',\n",
       " 'Cognitior - Rahul Time.xlsx',\n",
       " 'College Visit',\n",
       " 'Course Curriculam - Simpliv.docx',\n",
       " 'Course Curriculam.docx',\n",
       " 'Course Structure - CA.xlsx',\n",
       " 'Domain - Cognitive Analytics.docx',\n",
       " 'FDP.xlsx',\n",
       " 'Format - Based on performance.twbx',\n",
       " 'Houseprice.xlsx',\n",
       " 'Lockdow Task.xlsx',\n",
       " 'Logs',\n",
       " 'Machine Learning Approach - Paper 1.docx',\n",
       " 'model_joblib',\n",
       " 'model_pickle',\n",
       " 'MoM - 25th Jan 2020.docx',\n",
       " 'Our Offerings.docx',\n",
       " 'Our Offerings.pdf',\n",
       " 'Page 3.docx',\n",
       " 'Participant Details Form.docx',\n",
       " 'PCA.pptx',\n",
       " 'Pitch Deck.pptx',\n",
       " 'Tableau Blogs']"
      ]
     },
     "execution_count": 59,
     "metadata": {},
     "output_type": "execute_result"
    }
   ],
   "source": [
    "#Regular Expressions \n",
    "#Data Visualizations \n",
    "os.listdir()"
   ]
  },
  {
   "cell_type": "code",
   "execution_count": 65,
   "metadata": {},
   "outputs": [],
   "source": [
    "import csv\n",
    "my_dict = {'1': 'aaa', '2': 'bbb', '3': 'ccc'}\n",
    "with open('test.csv', 'w') as f:\n",
    "    for key in my_dict.keys():\n",
    "        f.write(\"%s,%s\\n\"%(key,my_dict[key]))"
   ]
  },
  {
   "cell_type": "code",
   "execution_count": 66,
   "metadata": {},
   "outputs": [],
   "source": [
    "import csv\n",
    "csv_columns = ['No','Name','Country']\n",
    "dict_data = [\n",
    "{'No': 1, 'Name': 'Alex', 'Country': 'India'},\n",
    "{'No': 2, 'Name': 'Ben', 'Country': 'USA'},\n",
    "{'No': 3, 'Name': 'Shri Ram', 'Country': 'India'},\n",
    "{'No': 4, 'Name': 'Smith', 'Country': 'USA'},\n",
    "{'No': 5, 'Name': 'Yuva Raj', 'Country': 'India'},\n",
    "]\n",
    "csv_file = \"Names.csv\"\n",
    "try:\n",
    "    with open(csv_file, 'w') as csvfile:\n",
    "        writer = csv.DictWriter(csvfile, fieldnames=csv_columns)\n",
    "        writer.writeheader()\n",
    "        for data in dict_data:\n",
    "            writer.writerow(data)\n",
    "except IOError:\n",
    "    print(\"I/O error\")"
   ]
  },
  {
   "cell_type": "code",
   "execution_count": 61,
   "metadata": {},
   "outputs": [],
   "source": [
    "dict = {'Python' : '.py', 'C++' : '.cpp', 'Java' : '.java'}\n",
    "f = open(\"dict.txt\",\"w\")\n",
    "f.write( str(dict) )\n",
    "f.close()"
   ]
  },
  {
   "cell_type": "code",
   "execution_count": 62,
   "metadata": {},
   "outputs": [],
   "source": [
    "import json\n",
    "\n",
    "dict = {'Python' : '.py', 'C++' : '.cpp', 'Java' : '.java'}\n",
    "\n",
    "json = json.dumps(dict)\n",
    "f = open(\"dict.json\",\"w\")\n",
    "f.write(json)\n",
    "f.close()"
   ]
  }
 ],
 "metadata": {
  "kernelspec": {
   "display_name": "Python 3",
   "language": "python",
   "name": "python3"
  },
  "language_info": {
   "codemirror_mode": {
    "name": "ipython",
    "version": 3
   },
   "file_extension": ".py",
   "mimetype": "text/x-python",
   "name": "python",
   "nbconvert_exporter": "python",
   "pygments_lexer": "ipython3",
   "version": "3.7.4"
  }
 },
 "nbformat": 4,
 "nbformat_minor": 2
}
